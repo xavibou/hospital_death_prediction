{
  "nbformat": 4,
  "nbformat_minor": 0,
  "metadata": {
    "kernelspec": {
      "display_name": "Python 3",
      "language": "python",
      "name": "python3"
    },
    "language_info": {
      "codemirror_mode": {
        "name": "ipython",
        "version": 3
      },
      "file_extension": ".py",
      "mimetype": "text/x-python",
      "name": "python",
      "nbconvert_exporter": "python",
      "pygments_lexer": "ipython3",
      "version": "3.8.5"
    },
    "colab": {
      "name": " Xavier Bou and Eric Santiago - TP4.ipynb",
      "provenance": [],
      "collapsed_sections": []
    }
  },
  "cells": [
    {
      "cell_type": "markdown",
      "metadata": {
        "id": "2auNIyhKoTee"
      },
      "source": [
        "<table>\n",
        "<tr>\n",
        "    <td width=10%><img src=\"./img/logo_lri.jpg\"></td>\n",
        "    <td width=30%><img src=\"./img/medi-chal_logo.png\" height=15%></img></td>\n",
        "</tr>\n",
        "\n",
        "</table>"
      ]
    },
    {
      "cell_type": "markdown",
      "metadata": {
        "id": "nbZijkc3oTee"
      },
      "source": [
        "<br/><br/><div id=\"top\"></div>\n",
        "\n",
        "<center><a style=\"font-size: 40pt; font-weight: bold\">To be or not to be?</a></center>\n",
        "<br/>\n",
        "<center><a style=\"font-size: 22pt; font-weight: bold\">Binary Classification on Artificial Medical Data</a></center>\n",
        "<br/>\n",
        "\n",
        "# <center> Authors: Xavier Bou and Eric Santiago</center>\n",
        "\n",
        "---\n",
        "\n",
        "\n",
        "---"
      ]
    },
    {
      "cell_type": "markdown",
      "metadata": {
        "id": "SkjytoZwoTee"
      },
      "source": [
        "# TP1 Instructions\n",
        "\n",
        "\n",
        "The goal of this TP is to work on a mortality prediction problem and to participate into the \"To be or not to be?\" challenge.\n",
        "\n",
        "A fresh instance of the challenge can be found here: https://competitions.codalab.org/competitions/27605\n",
        "\n",
        "* **Step 1:** Sign up to https://competitions.codalab.org\n",
        "* **Step 2:** Go through the competition's pages and read them carefully in order to understand the problem.\n",
        "* **Step 3:** Download the dataset from \"Participate > Files > Public Data\" page. Put the \"public_data\" folder in the same folder as the folder containing this notebook.\n",
        "* **Step 4:** Go though this notebook. You'll have to read, run, **code your own methods** and **answer quetions**. Use \"code\" cell for coding and \"markdown\" cell to answer questions. \n",
        "\n",
        "_Remark: You may need to look up on the internet for information or documentation._"
      ]
    },
    {
      "cell_type": "markdown",
      "metadata": {
        "id": "z64k0ssxoTee"
      },
      "source": [
        "<b><font size=\"5\">Outline</font></b><br/><br/>\n",
        "&emsp;&emsp;&emsp; I) <a href=\"#data\"> Load data</a><br/>\n",
        "&emsp;&emsp;&emsp; II) <a href=\"#exploratory\"> Exploratory analysis </a><br/>\n",
        "&emsp;&emsp;&emsp; III) <a href=\"#processing\"> Processing </a><br/>\n",
        "&emsp;&emsp;&emsp; IV) <a href=\"#model\"> Predictive model </a><br/>\n",
        "&emsp;&emsp;&emsp; V) <a href=\"#save\"> Save predictions </a><br/>"
      ]
    },
    {
      "cell_type": "code",
      "metadata": {
        "id": "i76aVvcyoTee"
      },
      "source": [
        "%matplotlib inline\n",
        "%reload_ext autoreload\n",
        "%autoreload 2\n",
        "\n",
        "import time\n",
        "from zipfile import ZipFile\n",
        "\n",
        "import matplotlib.pyplot as plt\n",
        "import numpy as np\n",
        "from collections import Counter\n",
        "%matplotlib inline\n",
        "import seaborn as sns\n",
        "\n",
        "sns.set()\n",
        "# IMPORTS\n",
        "import pandas as pd\n",
        "from sklearn.ensemble import RandomForestClassifier\n",
        "from sklearn.metrics import (\n",
        "    accuracy_score,\n",
        "    balanced_accuracy_score,\n",
        "    roc_auc_score,\n",
        ")\n",
        "\n",
        "from sklearn.svm import SVC\n",
        "from sklearn.neural_network import MLPClassifier\n",
        "from sklearn.model_selection import train_test_split\n",
        "from sklearn.preprocessing import LabelEncoder\n",
        "from sklearn.preprocessing import StandardScaler\n",
        "from sklearn.preprocessing import MinMaxScaler\n",
        "from sklearn.impute import SimpleImputer\n",
        "from sklearn.utils import resample\n",
        "from sklearn.decomposition import PCA\n",
        "from sklearn.metrics import confusion_matrix\n",
        "from sklearn.model_selection import cross_val_predict\n",
        "from sklearn.model_selection import cross_val_score\n",
        "from sklearn.model_selection import GridSearchCV\n"
      ],
      "execution_count": null,
      "outputs": []
    },
    {
      "cell_type": "markdown",
      "metadata": {
        "id": "0eapKir9oTef"
      },
      "source": [
        "### Question 1: Briefly explain the task."
      ]
    },
    {
      "cell_type": "markdown",
      "metadata": {
        "id": "ujytJc-aoTef"
      },
      "source": [
        "The task consists in designing and training a model to predict whether future hospital patients will either die or live, based on the provided training data. We should explore different approaches (hyperparameter tuning, differetn models, data resampling...) to improve and find out the best solution"
      ]
    },
    {
      "cell_type": "markdown",
      "metadata": {
        "id": "_5Sp6dttoTef"
      },
      "source": [
        "### Question 2: What is the metric used in the challenge?"
      ]
    },
    {
      "cell_type": "markdown",
      "metadata": {
        "id": "u8KOLY8WoTef"
      },
      "source": [
        "We are dealing with skewed classes, as there are only a few samples from patients that died, compared to the amount of data representing patients that lived. Therefore, using accuracy might not be the best metric to evaluate the model performance (We could predict that they all live and have a good accuracy).\n",
        "\n",
        "For this reason, the models are evaluated using the balanced accuracy metric (the average recall obtained on either class), taking account the classes distribution."
      ]
    },
    {
      "cell_type": "markdown",
      "metadata": {
        "id": "Po9hMVmnoTef"
      },
      "source": [
        "## <a id=\"data\"> I) Load data</a>  "
      ]
    },
    {
      "cell_type": "code",
      "metadata": {
        "id": "HJeWzJN4oTef"
      },
      "source": [
        "features = pd.read_csv(\n",
        "    \"/content/public_data/mimic_synthetic_feat.name\", header=None\n",
        ").values.flatten()\n",
        "labels = pd.read_csv(\n",
        "    \"/content/public_data/mimic_synthetic_label.name\", header=None\n",
        ").values.flatten()\n",
        "X = pd.read_csv(\n",
        "    \"/content/public_data/mimic_synthetic_train.data\",\n",
        "    header=None,\n",
        "    names=features,\n",
        "    sep=\" \",\n",
        ")\n",
        "y = pd.Series(\n",
        "    pd.read_csv(\n",
        "        \"/content/public_data/mimic_synthetic_train.solution\",\n",
        "        header=None,\n",
        "        names=labels,\n",
        "        sep=\" \",\n",
        "    ).values.flatten()\n",
        ")"
      ],
      "execution_count": null,
      "outputs": []
    },
    {
      "cell_type": "code",
      "metadata": {
        "colab": {
          "base_uri": "https://localhost:8080/",
          "height": 348
        },
        "id": "A_072a30VPRv",
        "outputId": "315a5a79-0dcd-4b3f-f715-576a21f09985"
      },
      "source": [
        "X.head()"
      ],
      "execution_count": null,
      "outputs": [
        {
          "output_type": "execute_result",
          "data": {
            "text/html": [
              "<div>\n",
              "<style scoped>\n",
              "    .dataframe tbody tr th:only-of-type {\n",
              "        vertical-align: middle;\n",
              "    }\n",
              "\n",
              "    .dataframe tbody tr th {\n",
              "        vertical-align: top;\n",
              "    }\n",
              "\n",
              "    .dataframe thead th {\n",
              "        text-align: right;\n",
              "    }\n",
              "</style>\n",
              "<table border=\"1\" class=\"dataframe\">\n",
              "  <thead>\n",
              "    <tr style=\"text-align: right;\">\n",
              "      <th></th>\n",
              "      <th>SUBJECT_ID</th>\n",
              "      <th>HADM_ID</th>\n",
              "      <th>ADMITTIME</th>\n",
              "      <th>DISCHTIME</th>\n",
              "      <th>INSURANCE</th>\n",
              "      <th>LANGUAGE</th>\n",
              "      <th>RELIGION</th>\n",
              "      <th>MARITAL_STATUS</th>\n",
              "      <th>ETHNICITY</th>\n",
              "      <th>GENDER</th>\n",
              "      <th>AGE</th>\n",
              "      <th>HR_MIN_DAY1</th>\n",
              "      <th>HR_MAX_DAY1</th>\n",
              "      <th>HR_MEAN_DAY1</th>\n",
              "      <th>SYS_BP_MIN_DAY1</th>\n",
              "      <th>SYS_BP_MAX_DAY1</th>\n",
              "      <th>SYS_BP_MEAN_DAY1</th>\n",
              "      <th>DIAS_BP_MIN_DAY1</th>\n",
              "      <th>DIAS_BP_MAX_DAY1</th>\n",
              "      <th>DIAS_BP_MEAN_DAY1</th>\n",
              "      <th>MEAN_BP_MIN_DAY1</th>\n",
              "      <th>MEAN_BP_MAX_DAY1</th>\n",
              "      <th>MEAN_BP_MEAN_DAY1</th>\n",
              "      <th>RESP_RATE_MIN_DAY1</th>\n",
              "      <th>RESP_RATE_MAX_DAY1</th>\n",
              "      <th>RESP_RATE_MEAN_DAY1</th>\n",
              "      <th>TEMP_MIN_DAY1</th>\n",
              "      <th>TEMP_MAX_DAY1</th>\n",
              "      <th>TEMP_MEAN_DAY1</th>\n",
              "      <th>SPO2_MIN_DAY1</th>\n",
              "      <th>SPO2_MAX_DAY1</th>\n",
              "      <th>SPO2_MEAN_DAY1</th>\n",
              "      <th>GLUCOSE_MIN_DAY1</th>\n",
              "      <th>GLUCOSE_MAX_DAY1</th>\n",
              "      <th>GLUCOSE_MEAN_DAY1</th>\n",
              "      <th>HR_MIN_DAY2</th>\n",
              "      <th>HR_MAX_DAY2</th>\n",
              "      <th>HR_MEAN_DAY2</th>\n",
              "      <th>SYS_BP_MIN_DAY2</th>\n",
              "      <th>SYS_BP_MAX_DAY2</th>\n",
              "      <th>...</th>\n",
              "      <th>Attention-deficit/conduct/disruptivebeha</th>\n",
              "      <th>Delirium/dementia/amnestic/othercognitiv</th>\n",
              "      <th>Developmentaldisorders</th>\n",
              "      <th>Disordersusuallydiagnosedininfancy/ch</th>\n",
              "      <th>ImpulsecontroldisordersNEC</th>\n",
              "      <th>Mooddisorders</th>\n",
              "      <th>Personalitydisorders</th>\n",
              "      <th>Schizophreniaandotherpsychoticdisorde</th>\n",
              "      <th>Alcohol-relateddisorders</th>\n",
              "      <th>Substance-relateddisorders</th>\n",
              "      <th>Suicideandintentionalself-inflictedin</th>\n",
              "      <th>Screeningandhistoryofmentalhealthan</th>\n",
              "      <th>Miscellaneousmentaldisorders</th>\n",
              "      <th>Viralinfect</th>\n",
              "      <th>Meningitis</th>\n",
              "      <th>Encephalitis</th>\n",
              "      <th>OthCNSinfx</th>\n",
              "      <th>Parkinson-s</th>\n",
              "      <th>Othinfectns</th>\n",
              "      <th>MS</th>\n",
              "      <th>OtheredCNS</th>\n",
              "      <th>Paralysis</th>\n",
              "      <th>Epilepsy/cnv</th>\n",
              "      <th>Headache/mig</th>\n",
              "      <th>Coma/brndmg</th>\n",
              "      <th>Cataract</th>\n",
              "      <th>Retinaldx</th>\n",
              "      <th>Glaucoma</th>\n",
              "      <th>Blindness</th>\n",
              "      <th>SexualInfxs</th>\n",
              "      <th>Eyeinfectn</th>\n",
              "      <th>Othereyedx</th>\n",
              "      <th>Otitismedia</th>\n",
              "      <th>Dizziness</th>\n",
              "      <th>Othereardx</th>\n",
              "      <th>Othnervdx</th>\n",
              "      <th>Hrtvalvedx</th>\n",
              "      <th>Carditis</th>\n",
              "      <th>HTN</th>\n",
              "      <th>Htncomplicn</th>\n",
              "    </tr>\n",
              "  </thead>\n",
              "  <tbody>\n",
              "    <tr>\n",
              "      <th>0</th>\n",
              "      <td>45524</td>\n",
              "      <td>108398</td>\n",
              "      <td>2128-05-15_23:42:00</td>\n",
              "      <td>2132-07-23_15:00:00</td>\n",
              "      <td>Private</td>\n",
              "      <td>ENGL</td>\n",
              "      <td>CATHOLIC</td>\n",
              "      <td>DIVORCED</td>\n",
              "      <td>WHITE</td>\n",
              "      <td>F</td>\n",
              "      <td>21</td>\n",
              "      <td>57.207630</td>\n",
              "      <td>108.704030</td>\n",
              "      <td>70.841980</td>\n",
              "      <td>79.847060</td>\n",
              "      <td>119.72417</td>\n",
              "      <td>94.435090</td>\n",
              "      <td>26.880910</td>\n",
              "      <td>68.876540</td>\n",
              "      <td>48.665768</td>\n",
              "      <td>37.614445</td>\n",
              "      <td>83.690080</td>\n",
              "      <td>61.041763</td>\n",
              "      <td>9.086277</td>\n",
              "      <td>24.325495</td>\n",
              "      <td>15.317726</td>\n",
              "      <td>34.627020</td>\n",
              "      <td>37.500460</td>\n",
              "      <td>37.149044</td>\n",
              "      <td>88.517360</td>\n",
              "      <td>98.391525</td>\n",
              "      <td>99.372050</td>\n",
              "      <td>134.743700</td>\n",
              "      <td>217.31165</td>\n",
              "      <td>155.57593</td>\n",
              "      <td>68.142490</td>\n",
              "      <td>100.063774</td>\n",
              "      <td>78.120926</td>\n",
              "      <td>89.537865</td>\n",
              "      <td>117.834885</td>\n",
              "      <td>...</td>\n",
              "      <td>0</td>\n",
              "      <td>0</td>\n",
              "      <td>0</td>\n",
              "      <td>0</td>\n",
              "      <td>0</td>\n",
              "      <td>0</td>\n",
              "      <td>0</td>\n",
              "      <td>0</td>\n",
              "      <td>0</td>\n",
              "      <td>0</td>\n",
              "      <td>0</td>\n",
              "      <td>0</td>\n",
              "      <td>0</td>\n",
              "      <td>0</td>\n",
              "      <td>0</td>\n",
              "      <td>0</td>\n",
              "      <td>0</td>\n",
              "      <td>0</td>\n",
              "      <td>0</td>\n",
              "      <td>0</td>\n",
              "      <td>0</td>\n",
              "      <td>0</td>\n",
              "      <td>0</td>\n",
              "      <td>0</td>\n",
              "      <td>0</td>\n",
              "      <td>0</td>\n",
              "      <td>0</td>\n",
              "      <td>0</td>\n",
              "      <td>0</td>\n",
              "      <td>0</td>\n",
              "      <td>0</td>\n",
              "      <td>0</td>\n",
              "      <td>0</td>\n",
              "      <td>0</td>\n",
              "      <td>0</td>\n",
              "      <td>0.0</td>\n",
              "      <td>0</td>\n",
              "      <td>0</td>\n",
              "      <td>0</td>\n",
              "      <td>0</td>\n",
              "    </tr>\n",
              "    <tr>\n",
              "      <th>1</th>\n",
              "      <td>50520</td>\n",
              "      <td>186416</td>\n",
              "      <td>2134-03-17_03:59:00</td>\n",
              "      <td>2113-03-06_12:05:00</td>\n",
              "      <td>Private</td>\n",
              "      <td>ENGL</td>\n",
              "      <td>UNOBTAINABLE</td>\n",
              "      <td>SINGLE</td>\n",
              "      <td>WHITE</td>\n",
              "      <td>M</td>\n",
              "      <td>39</td>\n",
              "      <td>79.331400</td>\n",
              "      <td>121.138664</td>\n",
              "      <td>96.915726</td>\n",
              "      <td>93.994540</td>\n",
              "      <td>138.59406</td>\n",
              "      <td>113.570206</td>\n",
              "      <td>38.621536</td>\n",
              "      <td>74.270065</td>\n",
              "      <td>66.566760</td>\n",
              "      <td>62.047737</td>\n",
              "      <td>98.244140</td>\n",
              "      <td>81.589250</td>\n",
              "      <td>8.950318</td>\n",
              "      <td>20.452858</td>\n",
              "      <td>16.422120</td>\n",
              "      <td>36.979280</td>\n",
              "      <td>37.946106</td>\n",
              "      <td>37.567726</td>\n",
              "      <td>94.895510</td>\n",
              "      <td>99.241165</td>\n",
              "      <td>98.645110</td>\n",
              "      <td>117.071846</td>\n",
              "      <td>152.38774</td>\n",
              "      <td>140.82172</td>\n",
              "      <td>89.746510</td>\n",
              "      <td>106.236690</td>\n",
              "      <td>101.622210</td>\n",
              "      <td>95.438126</td>\n",
              "      <td>145.642680</td>\n",
              "      <td>...</td>\n",
              "      <td>0</td>\n",
              "      <td>0</td>\n",
              "      <td>0</td>\n",
              "      <td>0</td>\n",
              "      <td>0</td>\n",
              "      <td>0</td>\n",
              "      <td>0</td>\n",
              "      <td>0</td>\n",
              "      <td>0</td>\n",
              "      <td>0</td>\n",
              "      <td>0</td>\n",
              "      <td>0</td>\n",
              "      <td>0</td>\n",
              "      <td>0</td>\n",
              "      <td>0</td>\n",
              "      <td>0</td>\n",
              "      <td>0</td>\n",
              "      <td>0</td>\n",
              "      <td>0</td>\n",
              "      <td>0</td>\n",
              "      <td>0</td>\n",
              "      <td>0</td>\n",
              "      <td>0</td>\n",
              "      <td>0</td>\n",
              "      <td>0</td>\n",
              "      <td>0</td>\n",
              "      <td>0</td>\n",
              "      <td>0</td>\n",
              "      <td>0</td>\n",
              "      <td>0</td>\n",
              "      <td>0</td>\n",
              "      <td>0</td>\n",
              "      <td>0</td>\n",
              "      <td>0</td>\n",
              "      <td>0</td>\n",
              "      <td>0.0</td>\n",
              "      <td>0</td>\n",
              "      <td>0</td>\n",
              "      <td>0</td>\n",
              "      <td>1</td>\n",
              "    </tr>\n",
              "    <tr>\n",
              "      <th>2</th>\n",
              "      <td>17956</td>\n",
              "      <td>126413</td>\n",
              "      <td>2164-04-05_17:32:00</td>\n",
              "      <td>2180-09-20_16:30:00</td>\n",
              "      <td>Medicaid</td>\n",
              "      <td>SPAN</td>\n",
              "      <td>CATHOLIC</td>\n",
              "      <td>WIDOWED</td>\n",
              "      <td>OTHER</td>\n",
              "      <td>M</td>\n",
              "      <td>40</td>\n",
              "      <td>118.230290</td>\n",
              "      <td>175.175430</td>\n",
              "      <td>140.936700</td>\n",
              "      <td>122.862610</td>\n",
              "      <td>144.25964</td>\n",
              "      <td>134.501220</td>\n",
              "      <td>67.754650</td>\n",
              "      <td>83.301410</td>\n",
              "      <td>80.350330</td>\n",
              "      <td>76.247795</td>\n",
              "      <td>105.058030</td>\n",
              "      <td>98.625850</td>\n",
              "      <td>14.516378</td>\n",
              "      <td>39.715710</td>\n",
              "      <td>23.086393</td>\n",
              "      <td>36.951508</td>\n",
              "      <td>38.752600</td>\n",
              "      <td>38.071655</td>\n",
              "      <td>95.166626</td>\n",
              "      <td>99.261380</td>\n",
              "      <td>93.118576</td>\n",
              "      <td>108.634170</td>\n",
              "      <td>247.39170</td>\n",
              "      <td>129.60728</td>\n",
              "      <td>125.785750</td>\n",
              "      <td>174.718640</td>\n",
              "      <td>141.342070</td>\n",
              "      <td>133.556170</td>\n",
              "      <td>132.174180</td>\n",
              "      <td>...</td>\n",
              "      <td>0</td>\n",
              "      <td>0</td>\n",
              "      <td>0</td>\n",
              "      <td>0</td>\n",
              "      <td>0</td>\n",
              "      <td>0</td>\n",
              "      <td>0</td>\n",
              "      <td>0</td>\n",
              "      <td>0</td>\n",
              "      <td>0</td>\n",
              "      <td>0</td>\n",
              "      <td>1</td>\n",
              "      <td>0</td>\n",
              "      <td>0</td>\n",
              "      <td>0</td>\n",
              "      <td>0</td>\n",
              "      <td>0</td>\n",
              "      <td>0</td>\n",
              "      <td>0</td>\n",
              "      <td>0</td>\n",
              "      <td>0</td>\n",
              "      <td>0</td>\n",
              "      <td>0</td>\n",
              "      <td>0</td>\n",
              "      <td>0</td>\n",
              "      <td>0</td>\n",
              "      <td>0</td>\n",
              "      <td>0</td>\n",
              "      <td>0</td>\n",
              "      <td>0</td>\n",
              "      <td>0</td>\n",
              "      <td>0</td>\n",
              "      <td>0</td>\n",
              "      <td>0</td>\n",
              "      <td>0</td>\n",
              "      <td>0.0</td>\n",
              "      <td>0</td>\n",
              "      <td>0</td>\n",
              "      <td>0</td>\n",
              "      <td>0</td>\n",
              "    </tr>\n",
              "    <tr>\n",
              "      <th>3</th>\n",
              "      <td>90258</td>\n",
              "      <td>109355</td>\n",
              "      <td>2102-09-08_00:58:00</td>\n",
              "      <td>2166-06-26_15:30:00</td>\n",
              "      <td>Medicare</td>\n",
              "      <td>ENGL</td>\n",
              "      <td>NOT_SPECIFIED</td>\n",
              "      <td>MARRIED</td>\n",
              "      <td>WHITE</td>\n",
              "      <td>M</td>\n",
              "      <td>75</td>\n",
              "      <td>83.780380</td>\n",
              "      <td>89.188980</td>\n",
              "      <td>86.051155</td>\n",
              "      <td>111.390740</td>\n",
              "      <td>144.86057</td>\n",
              "      <td>127.681170</td>\n",
              "      <td>61.139935</td>\n",
              "      <td>75.232390</td>\n",
              "      <td>74.849920</td>\n",
              "      <td>80.639640</td>\n",
              "      <td>106.473175</td>\n",
              "      <td>93.559380</td>\n",
              "      <td>13.452833</td>\n",
              "      <td>21.236153</td>\n",
              "      <td>15.556414</td>\n",
              "      <td>36.293858</td>\n",
              "      <td>37.254100</td>\n",
              "      <td>37.034706</td>\n",
              "      <td>86.604610</td>\n",
              "      <td>96.742004</td>\n",
              "      <td>94.456890</td>\n",
              "      <td>191.599600</td>\n",
              "      <td>228.56810</td>\n",
              "      <td>228.90790</td>\n",
              "      <td>68.780624</td>\n",
              "      <td>114.619530</td>\n",
              "      <td>90.120900</td>\n",
              "      <td>92.589430</td>\n",
              "      <td>120.602905</td>\n",
              "      <td>...</td>\n",
              "      <td>0</td>\n",
              "      <td>0</td>\n",
              "      <td>0</td>\n",
              "      <td>0</td>\n",
              "      <td>0</td>\n",
              "      <td>0</td>\n",
              "      <td>0</td>\n",
              "      <td>0</td>\n",
              "      <td>0</td>\n",
              "      <td>0</td>\n",
              "      <td>0</td>\n",
              "      <td>0</td>\n",
              "      <td>0</td>\n",
              "      <td>0</td>\n",
              "      <td>0</td>\n",
              "      <td>0</td>\n",
              "      <td>0</td>\n",
              "      <td>0</td>\n",
              "      <td>0</td>\n",
              "      <td>0</td>\n",
              "      <td>0</td>\n",
              "      <td>0</td>\n",
              "      <td>0</td>\n",
              "      <td>0</td>\n",
              "      <td>0</td>\n",
              "      <td>0</td>\n",
              "      <td>0</td>\n",
              "      <td>0</td>\n",
              "      <td>0</td>\n",
              "      <td>0</td>\n",
              "      <td>0</td>\n",
              "      <td>0</td>\n",
              "      <td>0</td>\n",
              "      <td>0</td>\n",
              "      <td>0</td>\n",
              "      <td>0.0</td>\n",
              "      <td>0</td>\n",
              "      <td>0</td>\n",
              "      <td>1</td>\n",
              "      <td>0</td>\n",
              "    </tr>\n",
              "    <tr>\n",
              "      <th>4</th>\n",
              "      <td>25159</td>\n",
              "      <td>123784</td>\n",
              "      <td>2163-08-06_12:07:00</td>\n",
              "      <td>2147-01-14_18:40:00</td>\n",
              "      <td>Medicare</td>\n",
              "      <td>ENGL</td>\n",
              "      <td>UNOBTAINABLE</td>\n",
              "      <td>MARRIED</td>\n",
              "      <td>UNKNOWN/NOT_SPECIFIED</td>\n",
              "      <td>F</td>\n",
              "      <td>55</td>\n",
              "      <td>60.878613</td>\n",
              "      <td>105.637500</td>\n",
              "      <td>80.616840</td>\n",
              "      <td>87.627464</td>\n",
              "      <td>127.75874</td>\n",
              "      <td>99.098860</td>\n",
              "      <td>42.693020</td>\n",
              "      <td>64.015396</td>\n",
              "      <td>64.309480</td>\n",
              "      <td>62.921795</td>\n",
              "      <td>98.436676</td>\n",
              "      <td>76.924060</td>\n",
              "      <td>8.615975</td>\n",
              "      <td>18.557594</td>\n",
              "      <td>12.778845</td>\n",
              "      <td>35.965570</td>\n",
              "      <td>36.973774</td>\n",
              "      <td>36.258358</td>\n",
              "      <td>61.632220</td>\n",
              "      <td>98.825516</td>\n",
              "      <td>99.040010</td>\n",
              "      <td>128.833010</td>\n",
              "      <td>181.92357</td>\n",
              "      <td>142.89526</td>\n",
              "      <td>56.715332</td>\n",
              "      <td>83.016860</td>\n",
              "      <td>76.610200</td>\n",
              "      <td>91.593130</td>\n",
              "      <td>117.402180</td>\n",
              "      <td>...</td>\n",
              "      <td>0</td>\n",
              "      <td>0</td>\n",
              "      <td>0</td>\n",
              "      <td>0</td>\n",
              "      <td>0</td>\n",
              "      <td>0</td>\n",
              "      <td>0</td>\n",
              "      <td>0</td>\n",
              "      <td>0</td>\n",
              "      <td>0</td>\n",
              "      <td>0</td>\n",
              "      <td>0</td>\n",
              "      <td>0</td>\n",
              "      <td>0</td>\n",
              "      <td>0</td>\n",
              "      <td>0</td>\n",
              "      <td>0</td>\n",
              "      <td>0</td>\n",
              "      <td>0</td>\n",
              "      <td>0</td>\n",
              "      <td>0</td>\n",
              "      <td>0</td>\n",
              "      <td>0</td>\n",
              "      <td>0</td>\n",
              "      <td>0</td>\n",
              "      <td>0</td>\n",
              "      <td>0</td>\n",
              "      <td>0</td>\n",
              "      <td>0</td>\n",
              "      <td>0</td>\n",
              "      <td>0</td>\n",
              "      <td>0</td>\n",
              "      <td>0</td>\n",
              "      <td>0</td>\n",
              "      <td>0</td>\n",
              "      <td>0.0</td>\n",
              "      <td>0</td>\n",
              "      <td>0</td>\n",
              "      <td>0</td>\n",
              "      <td>0</td>\n",
              "    </tr>\n",
              "  </tbody>\n",
              "</table>\n",
              "<p>5 rows × 341 columns</p>\n",
              "</div>"
            ],
            "text/plain": [
              "   SUBJECT_ID  HADM_ID            ADMITTIME  ... Carditis HTN Htncomplicn\n",
              "0       45524   108398  2128-05-15_23:42:00  ...        0   0           0\n",
              "1       50520   186416  2134-03-17_03:59:00  ...        0   0           1\n",
              "2       17956   126413  2164-04-05_17:32:00  ...        0   0           0\n",
              "3       90258   109355  2102-09-08_00:58:00  ...        0   1           0\n",
              "4       25159   123784  2163-08-06_12:07:00  ...        0   0           0\n",
              "\n",
              "[5 rows x 341 columns]"
            ]
          },
          "metadata": {
            "tags": []
          },
          "execution_count": 4
        }
      ]
    },
    {
      "cell_type": "markdown",
      "metadata": {
        "id": "19aB9riUoTeg"
      },
      "source": [
        "This is the **training set**. This means that have access to the labels and you can use it in anyway you want to prepare your model.\n",
        "\n",
        "Later on, you'll make your model draws predictions from the **testing set** in order to upload them on Codalab and get a score on unseen labels."
      ]
    },
    {
      "cell_type": "code",
      "metadata": {
        "id": "L_oqO_oZoTeg"
      },
      "source": [
        "# Load testing set\n",
        "X_test = pd.read_csv(\n",
        "    \"/content/public_data/mimic_synthetic_test.data\",\n",
        "    header=None,\n",
        "    names=features,\n",
        "    sep=\" \",\n",
        ")"
      ],
      "execution_count": null,
      "outputs": []
    },
    {
      "cell_type": "markdown",
      "metadata": {
        "id": "zdPr7bb7oTeg"
      },
      "source": [
        "## <a id=\"exploratory\"> II) Exploratory analysis</a>"
      ]
    },
    {
      "cell_type": "markdown",
      "metadata": {
        "id": "6PplkwfkoTeg"
      },
      "source": [
        "#### Variable types"
      ]
    },
    {
      "cell_type": "code",
      "metadata": {
        "id": "ZrfD2PrioTeg",
        "colab": {
          "base_uri": "https://localhost:8080/"
        },
        "outputId": "6507707e-57cf-4562-ace1-3d2081b5796f"
      },
      "source": [
        "types = pd.read_csv(\n",
        "    \"/content/public_data/mimic_synthetic_feat.type\", header=None\n",
        ").set_index(features)[0]\n",
        "print(types.value_counts())"
      ],
      "execution_count": null,
      "outputs": [
        {
          "output_type": "stream",
          "text": [
            "Numerical      226\n",
            "Binary         107\n",
            "Categorical      8\n",
            "Name: 0, dtype: int64\n"
          ],
          "name": "stdout"
        }
      ]
    },
    {
      "cell_type": "markdown",
      "metadata": {
        "id": "wvLu4eZRoTeh"
      },
      "source": [
        "#### Labels distribution"
      ]
    },
    {
      "cell_type": "code",
      "metadata": {
        "id": "B4mdfROgoTeh",
        "colab": {
          "base_uri": "https://localhost:8080/",
          "height": 334
        },
        "outputId": "2303bc38-9028-4b03-eb36-7c85eb091029"
      },
      "source": [
        "sns.distplot(y, bins=2, kde=False)"
      ],
      "execution_count": null,
      "outputs": [
        {
          "output_type": "stream",
          "text": [
            "/usr/local/lib/python3.6/dist-packages/seaborn/distributions.py:2551: FutureWarning: `distplot` is a deprecated function and will be removed in a future version. Please adapt your code to use either `displot` (a figure-level function with similar flexibility) or `histplot` (an axes-level function for histograms).\n",
            "  warnings.warn(msg, FutureWarning)\n"
          ],
          "name": "stderr"
        },
        {
          "output_type": "execute_result",
          "data": {
            "text/plain": [
              "<matplotlib.axes._subplots.AxesSubplot at 0x7f1c006bc518>"
            ]
          },
          "metadata": {
            "tags": []
          },
          "execution_count": 7
        },
        {
          "output_type": "display_data",
          "data": {
            "image/png": "[encoded data removed]",
            "text/plain": [
              "<Figure size 432x288 with 1 Axes>"
            ]
          },
          "metadata": {
            "tags": [],
            "needs_background": "light"
          }
        }
      ]
    },
    {
      "cell_type": "markdown",
      "metadata": {
        "id": "MTsTelotoTeh"
      },
      "source": [
        "### Code 1: Display the following plots:\n",
        "* Bar plots of some categorical variables (e.g. \"LANGUAGE\", \"MARITAL_STATUS\")\n",
        "\n",
        "* Show the correlation between some variables and the target variable y.\n",
        "\n",
        "* Another plot or any exploratory analysis you can think of"
      ]
    },
    {
      "cell_type": "code",
      "metadata": {
        "id": "KUbWrgNSoTeh",
        "colab": {
          "base_uri": "https://localhost:8080/",
          "height": 491
        },
        "outputId": "935d6ad4-3efa-4fb6-f478-a69b44272892"
      },
      "source": [
        "ax = X['AGE'].value_counts(sort = False, bins = 10).plot(kind='bar',figsize=(15,7), width = 0.70, alpha = 0.65)\n",
        "ax.set_title(\"Age distribution\", fontdict={'fontsize':14})\n",
        "ax.set_xlabel(\"Age\", fontdict={'fontsize':12})\n",
        "ax.set_ylabel(\"Number of people\", fontdict={'fontsize':12})\n",
        "plt.tight_layout()\n",
        "plt.xticks(rotation=45, ha=\"right\")\n",
        "for p in ax.patches:\n",
        "        total = X.shape[0]\n",
        "        percentage = '{:.2f}%'.format(100 * p.get_height()/total)\n",
        "        width = p.get_width()\n",
        "        height = p.get_height()\n",
        "        x, y = p.get_xy() \n",
        "        ax.annotate(percentage, (x + width/2, y + height*1.02), ha='center')"
      ],
      "execution_count": null,
      "outputs": [
        {
          "output_type": "display_data",
          "data": {
            "image/png": "[encoded data removed]",
            "text/plain": [
              "<Figure size 1080x504 with 1 Axes>"
            ]
          },
          "metadata": {
            "tags": []
          }
        }
      ]
    },
    {
      "cell_type": "code",
      "metadata": {
        "id": "eJ4TI4x2oTeh",
        "colab": {
          "base_uri": "https://localhost:8080/"
        },
        "outputId": "a09f22cf-bcc5-48ed-c188-42b8f5bb3ede"
      },
      "source": [
        "X.corrwith(y)"
      ],
      "execution_count": null,
      "outputs": [
        {
          "output_type": "execute_result",
          "data": {
            "text/plain": [
              "SUBJECT_ID    -0.004639\n",
              "HADM_ID       -0.002889\n",
              "AGE            0.019190\n",
              "HR_MIN_DAY1    0.064780\n",
              "HR_MAX_DAY1    0.072596\n",
              "                 ...   \n",
              "Othnervdx      0.022230\n",
              "Hrtvalvedx    -0.024616\n",
              "Carditis      -0.003771\n",
              "HTN            0.001889\n",
              "Htncomplicn   -0.008553\n",
              "Length: 332, dtype: float64"
            ]
          },
          "metadata": {
            "tags": []
          },
          "execution_count": 27
        }
      ]
    },
    {
      "cell_type": "code",
      "metadata": {
        "id": "kNC-EylXoTeh",
        "colab": {
          "base_uri": "https://localhost:8080/",
          "height": 431
        },
        "outputId": "362859ec-7f3e-4d74-d1dd-dbab8388a019"
      },
      "source": [
        "fig, ax = plt.subplots(figsize=(18,6))\n",
        "labels = ['Female','Male']\n",
        "X.groupby(['INSURANCE','GENDER'])['GENDER'].count().unstack('GENDER').plot.barh(stacked=True, width=0.5,  ax=ax)\n",
        "plt.legend(loc=\"lower right\", labels=labels)\n",
        "ax.set_title(\"Insurance distribution in terms of gender\", fontdict={'fontsize':14})\n",
        "ax.set_xlabel(\"Number of samples\", fontdict={'fontsize':14})\n",
        "ax.set_ylabel(\"Insurance\", fontdict={'fontsize':14})\n",
        "plt.xticks(rotation=45, ha=\"right\")\n",
        "plt.show()"
      ],
      "execution_count": null,
      "outputs": [
        {
          "output_type": "display_data",
          "data": {
            "image/png": "[encoded data removed]",
            "text/plain": [
              "<Figure size 1296x432 with 1 Axes>"
            ]
          },
          "metadata": {
            "tags": []
          }
        }
      ]
    },
    {
      "cell_type": "markdown",
      "metadata": {
        "id": "-br81A2CoTeh"
      },
      "source": [
        "You can use markdown cells to add interesting comments."
      ]
    },
    {
      "cell_type": "markdown",
      "metadata": {
        "id": "v0oRqVaE4w_u"
      },
      "source": [
        "## <a id=\"processing\"> Class definition</a>\n",
        "\n",
        "In order to reach a factored, cleaner code, we will define a class to process the data and tune the hyperparameters of the model. We will define the class down below, with some functions to make our life easier."
      ]
    },
    {
      "cell_type": "code",
      "metadata": {
        "id": "BPkcs-PG5Rpc"
      },
      "source": [
        "# This class has been defined with the purpose of assisting the processing and\n",
        "# hyperparameter tuning of the data, having a cleaner and organized code\n",
        "class dataHandler(object):\n",
        "\n",
        "  def __init__(self, X, y, X_test):\n",
        "    self.X = X\n",
        "    self.y = y\n",
        "    self.X_test = X_test\n",
        "  \n",
        "\n",
        "\n",
        "  # This method encodes the categorical features into numerical features using a\n",
        "  # LabelEncoder, and then replaces the NaN values with the desired strategy\n",
        "  def preprocess(self, strategy):\n",
        "    X_enc = self.X.copy()\n",
        "    X_test_enc = self.X_test.copy()\n",
        "    objList = X_enc.select_dtypes(include = \"object\").columns\n",
        "    print (objList)\n",
        "\n",
        "    #Label Encoding for object to numeric conversion\n",
        "    le = LabelEncoder()\n",
        "\n",
        "    for feat in objList:\n",
        "        le.fit(X_enc[feat].astype(str))\n",
        "        X_enc[feat] = le.transform(X_enc[feat].astype(str))\n",
        "        X_test_enc[feat] = X_test_enc[feat].map(lambda s: '<unknown>' if s not in le.classes_ else s)\n",
        "        le.classes_ = np.append(le.classes_, '<unknown>')\n",
        "        X_test_enc[feat] = le.transform(X_test_enc[feat].astype(str))\n",
        "    \n",
        "    # Remove NaN values and replace them by the specified strategy\n",
        "    imp = SimpleImputer(missing_values=np.nan, strategy=strategy)\n",
        "    imp.fit(X_enc)\n",
        "    X_no_nan = imp.transform(X_enc)\n",
        "    X_test_no_nan =  imp.transform(X_test_enc)\n",
        "\n",
        "    return X_no_nan, X_test_no_nan\n",
        "  \n",
        "\n",
        "\n",
        "\n",
        "  # This class resamples (upsample or downsample) the data to adjust the number \n",
        "  # of samples of each class to num_class_0 and num_class_1\n",
        "  def resample (self, X, y, num_class_0, num_class_1):\n",
        "\n",
        "    # Separate class 0 samples and class 1 samples\n",
        "    X_class_0 = X[y==0]\n",
        "    X_class_1 = X[y==1]\n",
        "    #print('Number of original class 0 samples: ', len(X_class_0))\n",
        "    #print('Number of original class 1 samples: ', len(X_class_1))\n",
        "\n",
        "    # Check whether replacement is necessary\n",
        "    class_0_replace = False\n",
        "    class_1_replace = False\n",
        "    if num_class_0 > len(X_class_0):\n",
        "      class_0_replace = True\n",
        "    if num_class_1 > len(X_class_1):\n",
        "      class_1_replace = True\n",
        "\n",
        "    # Resample classes separately\n",
        "    X_class_0_resampled = resample(X_class_0, replace=class_0_replace, n_samples= num_class_0)\n",
        "    X_class_1_resampled = resample(X_class_1, replace=class_1_replace, n_samples= num_class_1)\n",
        "\n",
        "    #print('New number of class 0 samples: ', len(X_class_0_resampled))\n",
        "    #print('New number of class 1 samples: ', len(X_class_1_resampled))\n",
        "\n",
        "    # Concatenate and return new resampled data\n",
        "    X_resampled = np.concatenate((X_class_1_resampled, X_class_0_resampled), axis=0)\n",
        "    y_resampled = np.concatenate((np.ones(len(X_class_0_resampled)), np.zeros(len(X_class_1_resampled))), axis=0)\n",
        "\n",
        "    return X_resampled, y_resampled"
      ],
      "execution_count": null,
      "outputs": []
    },
    {
      "cell_type": "markdown",
      "metadata": {
        "id": "BVPo3F4xoTeh"
      },
      "source": [
        "## <a id=\"processing\"> III) Processing</a>\n",
        "\n",
        "As you may have noticed, various variables are categorical and encoded with strings. Most models won't be able to take them as input.\n",
        "\n",
        "### Code 2: Transform the categorical data into integers using the encoding of your choice.\n",
        "\n",
        "_Hint: The simplest methods is called \"Label Encoding\". It simply consists in replacing each new category you encounter by the integer, starting from 0. It may not be the most efficient method._"
      ]
    },
    {
      "cell_type": "code",
      "metadata": {
        "id": "UMm02v78oTeh",
        "colab": {
          "base_uri": "https://localhost:8080/"
        },
        "outputId": "ccbf0a0d-37ac-4ffe-ae17-642a9f17e5e7"
      },
      "source": [
        "# We define an object of our class dataHandler, and use the preprocess method\n",
        "dataHandler = dataHandler(X,y,X_test)\n",
        "X_no_nan, X_test_no_nan = dataHandler.preprocess('median')\n"
      ],
      "execution_count": null,
      "outputs": [
        {
          "output_type": "stream",
          "text": [
            "Index(['ADMITTIME', 'DISCHTIME', 'INSURANCE', 'LANGUAGE', 'RELIGION',\n",
            "       'MARITAL_STATUS', 'ETHNICITY', 'GENDER', 'ICU'],\n",
            "      dtype='object')\n"
          ],
          "name": "stdout"
        }
      ]
    },
    {
      "cell_type": "markdown",
      "metadata": {
        "id": "uwtN0VfdoTeh"
      },
      "source": [
        "## <a id=\"model\"> IV) Predictive model</a>\n",
        "\n",
        "Train a model and assess its performance."
      ]
    },
    {
      "cell_type": "code",
      "metadata": {
        "id": "d5pmGSw1oTeh",
        "colab": {
          "base_uri": "https://localhost:8080/"
        },
        "outputId": "dd85bfff-dd0b-4e50-d5db-06b5279fd710"
      },
      "source": [
        "# Baseline: Random Forest\n",
        "clf = RandomForestClassifier(n_estimators=10)\n",
        "x_train, x_valid, y_train, y_valid = train_test_split(\n",
        "    X_no_nan, y, test_size=0.3\n",
        ")  # train/validation split\n",
        "clf.fit(x_train, y_train)  # training\n",
        "y_pred = clf.predict(x_valid)  # predictions\n",
        "score = balanced_accuracy_score(y_valid, y_pred)  # scoring\n",
        "print(\"Balanced accuracy score: {}\".format(score))\n",
        "\n",
        "# Analyze prediction with Confusion Matrix\n",
        "conf_mat = confusion_matrix(y_true=y_valid, y_pred=y_pred)\n",
        "print('Confusion matrix:\\n', conf_mat)"
      ],
      "execution_count": null,
      "outputs": [
        {
          "output_type": "stream",
          "text": [
            "Balanced accuracy score: 0.5005772327959379\n",
            "Confusion matrix:\n",
            " [[23192     2]\n",
            " [  805     1]]\n"
          ],
          "name": "stdout"
        }
      ]
    },
    {
      "cell_type": "markdown",
      "metadata": {
        "id": "Lb7hwJhkoTeh"
      },
      "source": [
        "### Code 3: the code above uses a simple \"hold out\" method to get the validation score. Use cross-validation to get a more stable estimation."
      ]
    },
    {
      "cell_type": "code",
      "metadata": {
        "id": "fuBeCl9AoTeh",
        "colab": {
          "base_uri": "https://localhost:8080/"
        },
        "outputId": "1a2b7af3-e83e-4a8e-e06e-0e752f130b5e"
      },
      "source": [
        "y_pred = cross_val_score(clf, X_no_nan, y, cv=10)\n",
        "print(\"Cross-validation accuracy score: {}\".format(np.mean(score)))"
      ],
      "execution_count": null,
      "outputs": [
        {
          "output_type": "stream",
          "text": [
            "Cross-validation accuracy score: 0.5005557539955487\n"
          ],
          "name": "stdout"
        }
      ]
    },
    {
      "cell_type": "markdown",
      "metadata": {
        "id": "uYRjexIBoTeh"
      },
      "source": [
        "### Code 4: Try to improve your score by using at least one of the following methods:\n",
        "\n",
        "* Hyperparameter search\n",
        "* Model selection\n",
        "* Data augmentation"
      ]
    },
    {
      "cell_type": "markdown",
      "metadata": {
        "id": "6Lr9Jv1x5gfQ"
      },
      "source": [
        "## <a id=\"model\"> Improving Random Forest Classifier</a>\n",
        "\n",
        "### Data Resampling\n",
        "\n",
        "The first approach we'll try to improve the classifier is to resample the data and even the samples from class 1 and 0. To upsample the minority class, we will have to randomly add samples from the already small batch size of that class, so we have to be careful to avoid overfitting.\n",
        "\n",
        "Thus, we will first evaluate the accuracy score at different sizes of the data, and then we will evaluate the confusion matrix to avoid overfitting and find an good resampling size for our data.\n",
        "\n",
        "It is important to set aside the validation data before resizing, because when upsampling we will use already existing point of the data to increase the size of the class. This way, the accuracy on the validation set could be misleading if we don't separate validation and train before the resampling.\n"
      ]
    },
    {
      "cell_type": "code",
      "metadata": {
        "id": "i5vgts3N9S7q"
      },
      "source": [
        "# This class evaluates the performance of the Random Forest Classifier for \n",
        "# multiple sizes of the data, by resampling it to have the same number of samples\n",
        "# for both classes.\n",
        "def resample_analysis(dataHandler, X, y , class_N, n_estimators):\n",
        "  acc_val = []\n",
        "  acc_train = []\n",
        "  n_class = []\n",
        "\n",
        "  for n in class_N:\n",
        "    X_resampled, y_resampled = dataHandler.resample (x_train, y_train, n, n);\n",
        "    clf = RandomForestClassifier(n_estimators=n_estimators)\n",
        "    clf.fit(X_resampled, y_resampled)  # training\n",
        "\n",
        "    y_pred_val = clf.predict(x_valid)  # predictions\n",
        "    y_predict_train = clf.predict(x_train)\n",
        "\n",
        "    score_val = balanced_accuracy_score(y_pred_val, y_valid)  # scoring\n",
        "    score_train = balanced_accuracy_score(y_predict_train, y_train)\n",
        "\n",
        "    acc_val.append(score_val)\n",
        "    acc_train.append(score_train)\n",
        "    n_class.append(n)\n",
        "  \n",
        "  plt.plot(n_class, acc_val, 'r',  label='Validation Accuracy')\n",
        "  plt.plot(n_class, acc_train, 'b', label='Train Accuracy')\n",
        "  plt.legend()\n",
        "  plt.ylabel('Balanced Accuracy Score')\n",
        "  plt.xlabel('Number of Samples per Class')\n",
        "  plt.title(\"Data resampling analysis with n_estimators = %d\" % n_estimators)\n",
        "  plt.show()\n",
        "\n",
        "  print(\"Best Accuracy score: {} (at {} samples per class)\".format(max(acc_val), n_class[acc_val.index(max(acc_val))]))\n",
        "\n",
        "  return acc_val,n_class"
      ],
      "execution_count": null,
      "outputs": []
    },
    {
      "cell_type": "code",
      "metadata": {
        "colab": {
          "base_uri": "https://localhost:8080/",
          "height": 310
        },
        "id": "N14laIJgXp6-",
        "outputId": "3dd094e5-a06d-42ef-ade6-9d9a4a375fd7"
      },
      "source": [
        "class_N = [1000, 1500, 2000, 2500, 3000, 3500, 4000, 5000, 7000, 10000, 20000, 30000, 40000]\n",
        "acc,n_class = resample_analysis(dataHandler,X_no_nan, y, class_N, 100)"
      ],
      "execution_count": null,
      "outputs": [
        {
          "output_type": "display_data",
          "data": {
            "image/png": "[encoded data removed]",
            "text/plain": [
              "<Figure size 432x288 with 1 Axes>"
            ]
          },
          "metadata": {
            "tags": [],
            "needs_background": "light"
          }
        },
        {
          "output_type": "stream",
          "text": [
            "Best Accuracy score: 0.9821242551772991 (at 40000 samples per class)\n"
          ],
          "name": "stdout"
        }
      ]
    },
    {
      "cell_type": "markdown",
      "metadata": {
        "id": "cJyHSdk2_tFM"
      },
      "source": [
        "Although the results seem to be very good for a high number of samples per class, we found two sensitive points that we need to consider:\n",
        "\n",
        "\n",
        "*   When separating validation set before resampling, the class 1 is still very misrepresented (skewed) and assigning all samples to class 0 yields a good result anyways.\n",
        "*   When resampling first and then dividing the data into validation and train sets, the validation set contains data from the train set due to the resampling process.\n",
        "\n",
        "Therefore, we decided to resample the data to the amount of given class 1 samples\n",
        "\n"
      ]
    },
    {
      "cell_type": "code",
      "metadata": {
        "colab": {
          "base_uri": "https://localhost:8080/"
        },
        "id": "TKWaZ8Hf3sRS",
        "outputId": "732c7759-d35c-43de-dfb1-6f7aaad0d309"
      },
      "source": [
        "N = len(X_no_nan[y==1])\n",
        "X_resampled, y_resampled = dataHandler.resample (X_no_nan, y, N , N);\n",
        "x_train, x_valid, y_train, y_valid = train_test_split(\n",
        "    X_resampled, y_resampled, test_size=0.3)\n",
        "\n",
        "print(\"Resampled data size: {}\".format(X_resampled.shape[0]))\n",
        "\n",
        "clf = RandomForestClassifier(n_estimators=100)\n",
        "clf.fit(x_train, y_train)  # training\n",
        "\n",
        "y_pred_val = clf.predict(x_valid)  # predictions\n",
        "y_predict_train = clf.predict(x_train)\n",
        "\n",
        "score_val = balanced_accuracy_score(y_pred_val, y_valid)  # scoring\n",
        "score_train = balanced_accuracy_score(y_predict_train, y_train)\n",
        "\n",
        "print(\"Balanced accuracy score: {}\".format(score_val))\n",
        "\n",
        "# Analyze prediction with Confusion Matrix\n",
        "conf_mat = confusion_matrix(y_true=y_valid, y_pred=y_pred_val)\n",
        "print('Confusion matrix:\\n', conf_mat)"
      ],
      "execution_count": null,
      "outputs": [
        {
          "output_type": "stream",
          "text": [
            "Resampled data size: 5594\n",
            "Balanced accuracy score: 0.7021569331214002\n",
            "Confusion matrix:\n",
            " [[609 220]\n",
            " [282 568]]\n"
          ],
          "name": "stdout"
        }
      ]
    },
    {
      "cell_type": "markdown",
      "metadata": {
        "id": "Xr3KHET1wNeV"
      },
      "source": [
        "### PCA analysis\n",
        "\n",
        "Now, let's see how PCA affects our model. Let's evaluate the performance we obtain for different numbers of principal components. For this, we have written the function down below:"
      ]
    },
    {
      "cell_type": "code",
      "metadata": {
        "id": "2ULT1PUlwZPN"
      },
      "source": [
        "def pca_evaluation(X, y, n_estimators, nComp_range):\n",
        "  # Initialize arrays to record the results for each iteration\n",
        "  train_acc = []\n",
        "  validation_acc = []\n",
        "  nComp_values = []\n",
        "\n",
        "  x_train, x_valid, y_train, y_valid = train_test_split(\n",
        "      X, y, test_size=0.3\n",
        "  )  # train/validation split\n",
        "\n",
        "  # Initialize model\n",
        "  clf = RandomForestClassifier(n_estimators=n_estimators)\n",
        "\n",
        "  for i in nComp_range:\n",
        "    # Apply PCA to the train and validation sets\n",
        "    preProc = PCA(n_components=i, copy=True)\n",
        "    preProc.fit(x_train)\n",
        "    X_train_T = preProc.transform(x_train)\n",
        "    X_validation_T = preProc.transform(x_valid)\n",
        "\n",
        "    # Fit model\n",
        "    clf.fit(X_train_T, y_train)\n",
        "\n",
        "    # Compute predictions for both train and validation sets\n",
        "    y_pred_train = clf.predict(X_train_T)\n",
        "    y_pred_validation = clf.predict(X_validation_T)\n",
        "\n",
        "    # Record results\n",
        "    train_acc.append(balanced_accuracy_score(y_train, y_pred_train))\n",
        "    validation_acc.append(balanced_accuracy_score(y_valid, y_pred_validation))\n",
        "    nComp_values.append(i)\n",
        "  \n",
        "  # Plot the results\n",
        "  plt.plot(nComp_values, train_acc, 'b',  label='Train Accuracy')\n",
        "  plt.plot(nComp_values, validation_acc, 'r', label='Validation Accuracy')\n",
        "  plt.legend()\n",
        "  plt.ylabel('Accuracy')\n",
        "  plt.xlabel('Number of Principal Components (nComp)')\n",
        "  plt.title(\"PCA Analysis for Decision Tree Classifier with n_estimators = %d\" % n_estimators)\n",
        "  plt.show()\n",
        "\n",
        "  print(\"Max train accuracy score: {} (at nComps = {})\".format(max(train_acc), nComp_values[train_acc.index(max(train_acc))]   ))\n",
        "  print(\"Max validation accuracy score: {} (at nComps = {})\\n\".format(max(validation_acc), nComp_values[validation_acc.index(max(validation_acc))] )) \n",
        "\n",
        "  return train_acc, validation_acc, nComp_values\n"
      ],
      "execution_count": null,
      "outputs": []
    },
    {
      "cell_type": "markdown",
      "metadata": {
        "id": "rIpMu4z4VnEf"
      },
      "source": [
        "To run the function, we will remove the first 8 features of our data, because they account for ids, record date, and other information that is not really relevant to the problem."
      ]
    },
    {
      "cell_type": "code",
      "metadata": {
        "colab": {
          "base_uri": "https://localhost:8080/",
          "height": 343
        },
        "id": "uT7Va2Sa21ZL",
        "outputId": "57de3e53-1cde-4ea5-8824-f3e1f62d460d"
      },
      "source": [
        "pca_range = np.array(list(np.arange(1,50))+[50,100,200])\n",
        "n_estimators = 100\n",
        "train_acc, validation_acc, nComp_values = pca_evaluation(X_resampled[:,8:], y_resampled, n_estimators, pca_range)"
      ],
      "execution_count": null,
      "outputs": [
        {
          "output_type": "display_data",
          "data": {
            "image/png": "[encoded data removed]",
            "text/plain": [
              "<Figure size 432x288 with 1 Axes>"
            ]
          },
          "metadata": {
            "tags": [],
            "needs_background": "light"
          }
        },
        {
          "output_type": "stream",
          "text": [
            "Max train accuracy score: 1.0 (at nComps = 2)\n",
            "Max validation accuracy score: 0.7235058975115793 (at nComps = 100)\n",
            "\n"
          ],
          "name": "stdout"
        }
      ]
    },
    {
      "cell_type": "markdown",
      "metadata": {
        "id": "7AS3oq9LU2co"
      },
      "source": [
        "We can see how the best results were obtained for PCA with 100 principal components\n",
        "\n",
        "### Tuning of n_estimators\n",
        "\n",
        "Now, let's go on and try to tune the hyperparameter n_estimators"
      ]
    },
    {
      "cell_type": "code",
      "metadata": {
        "id": "8RcD-LmjWDIc"
      },
      "source": [
        "# Evaluate the Accuracy score for multiple values of max_depth\n",
        "def max_depth_tune(X, y, n_estimators_range, nComps):\n",
        "  # Initialize arrays to record the results for each iteration\n",
        "  train_acc = []\n",
        "  validation_acc = []\n",
        "\n",
        "  x_train, x_valid, y_train, y_valid = train_test_split(\n",
        "      X, y, test_size=0.3\n",
        "  )  # train/validation split\n",
        "  # Apply PCA to the train and validation sets\n",
        "  preProc = PCA(n_components=nComps, copy=True)\n",
        "  preProc.fit(x_train)\n",
        "  X_train_T = preProc.transform(x_train)\n",
        "  X_validation_T = preProc.transform(x_valid)\n",
        "\n",
        "  for i in n_estimators_range:\n",
        "    clf = RandomForestClassifier(n_estimators=i)\n",
        "    clf.fit(x_train, y_train)  # training\n",
        "\n",
        "    # Compute predictions for both train and validation sets\n",
        "    y_pred_train = clf.predict(x_train)\n",
        "    y_pred_validation = clf.predict(x_valid)\n",
        "\n",
        "    # Record results\n",
        "    train_acc.append(balanced_accuracy_score(y_train, y_pred_train))\n",
        "    validation_acc.append(balanced_accuracy_score(y_valid, y_pred_validation))\n",
        "  \n",
        "  # Plot the results\n",
        "  plt.plot(n_estimators_range, train_acc, 'b',  label='Train Accuracy')\n",
        "  plt.plot(n_estimators_range, validation_acc, 'r', label='Validation Accuracy')\n",
        "  plt.legend()\n",
        "  plt.ylabel('Accuracy')\n",
        "  plt.xlabel('n_estimators')\n",
        "  plt.title('Accuracy score for n_estimators hyperparameter tuning')\n",
        "  plt.show()\n",
        "\n",
        "  print(\"Max train accuracy score: {} (at n_estimators = {})\".format(max(train_acc), n_estimators_range[train_acc.index(max(train_acc))]   ))\n",
        "  print(\"Max validation accuracy score: {} (at n_estimators = {})\".format(max(validation_acc), n_estimators_range[validation_acc.index(max(validation_acc))] )) \n",
        "\n",
        "  return train_acc, validation_acc"
      ],
      "execution_count": null,
      "outputs": []
    },
    {
      "cell_type": "code",
      "metadata": {
        "colab": {
          "base_uri": "https://localhost:8080/",
          "height": 328
        },
        "id": "GqnbMNNWXfd_",
        "outputId": "37de3e32-ed76-4518-a96e-b91c34565e41"
      },
      "source": [
        "n_estimators_range = [10, 50, 100, 200, 500, 1000, 1200, 1500, 2000, 3000, 4000]\n",
        "nComps = 100\n",
        "train_acc, validation_acc = max_depth_tune(X_resampled[:,8:], y_resampled, n_estimators_range, nComps)"
      ],
      "execution_count": null,
      "outputs": [
        {
          "output_type": "display_data",
          "data": {
            "image/png": "[encoded data removed]",
            "text/plain": [
              "<Figure size 432x288 with 1 Axes>"
            ]
          },
          "metadata": {
            "tags": [],
            "needs_background": "light"
          }
        },
        {
          "output_type": "stream",
          "text": [
            "Max train accuracy score: 1.0 (at n_estimators = 50)\n",
            "Max validation accuracy score: 0.7214127581068616 (at n_estimators = 1500)\n"
          ],
          "name": "stdout"
        }
      ]
    },
    {
      "cell_type": "markdown",
      "metadata": {
        "id": "GtRtSK9dh8kN"
      },
      "source": [
        "The best case was for n_estimators = 1500, atlhough there is not much of a difference for n_estimators > 100.\n",
        "\n",
        "Let's check if normalization helps us out."
      ]
    },
    {
      "cell_type": "code",
      "metadata": {
        "colab": {
          "base_uri": "https://localhost:8080/"
        },
        "id": "ecPweb5qiblN",
        "outputId": "58b43eac-0ff1-4ceb-b907-049d4ff90f3f"
      },
      "source": [
        "x_train, x_valid, y_train, y_valid = train_test_split(\n",
        "    X_resampled[:,8:], y_resampled, test_size=0.3)\n",
        "\n",
        "# Normalize the data\n",
        "scaler = StandardScaler().fit(x_train)\n",
        "X_train_norm = scaler.transform(x_train)\n",
        "X_valid_norm = scaler.transform(x_valid)\n",
        "\n",
        "# Apply PCA\n",
        "nComps = 100\n",
        "preProc = PCA(n_components=nComps, copy=True)\n",
        "preProc.fit(X_train_norm)\n",
        "X_train_T = preProc.transform(X_train_norm)\n",
        "X_validation_T = preProc.transform(X_valid_norm)\n",
        "\n",
        "# Train model\n",
        "clf = RandomForestClassifier(n_estimators=1500)\n",
        "clf.fit(X_train_T, y_train)  # training\n",
        "\n",
        "# Compute predictions for both train and validation sets\n",
        "y_pred_validation = clf.predict(X_validation_T)\n",
        "score_val = balanced_accuracy_score(y_valid, y_pred_validation)\n",
        "print(\"Balanced accuracy score: {}\".format(score_val))\n",
        "\n",
        "# Analyze prediction with Confusion Matrix\n",
        "conf_mat = confusion_matrix(y_true=y_valid, y_pred=y_pred_validation)\n",
        "print('Confusion matrix:\\n', conf_mat)"
      ],
      "execution_count": null,
      "outputs": [
        {
          "output_type": "stream",
          "text": [
            "Balanced accuracy score: 0.7323663552356734\n",
            "Confusion matrix:\n",
            " [[584 263]\n",
            " [187 645]]\n"
          ],
          "name": "stdout"
        }
      ]
    },
    {
      "cell_type": "markdown",
      "metadata": {
        "id": "m0nqm6BQldLx"
      },
      "source": [
        "It did help a bit. Therefore, our best result for Random Forest Classifier is given for:\n",
        "PCa with 100 principal components, downsampling the class 0 data to the \n",
        "\n",
        "*   Downsampling the class 0 data to the same length as class 1 data\n",
        "*   PCA with 100 Principal Components\n",
        "*   n_estimators = 1500\n",
        "*   Normalizing with StandardScaler befor applying PCA\n",
        "\n",
        "Before trying a different model, let's compute cross-validation for this case"
      ]
    },
    {
      "cell_type": "code",
      "metadata": {
        "colab": {
          "base_uri": "https://localhost:8080/"
        },
        "id": "0ZRPk3qQmOVW",
        "outputId": "d28a2755-6f75-4a3d-c8f4-9812ac98862a"
      },
      "source": [
        "X_norm = scaler.transform(X_resampled[:,8:])\n",
        "X_T = preProc.transform(X_norm)\n",
        "y_pred = cross_val_score(clf, X_T, y_resampled, cv=5)\n",
        "print(\"Cross-validation accuracy score: {}\".format(np.mean(score)))"
      ],
      "execution_count": null,
      "outputs": [
        {
          "output_type": "stream",
          "text": [
            "Cross-validation accuracy score: 0.6724458748209023\n"
          ],
          "name": "stdout"
        }
      ]
    },
    {
      "cell_type": "markdown",
      "metadata": {
        "id": "Uo1JRhvfnCDW"
      },
      "source": [
        "## <a id=\"model\"> Trying other models</a>\n",
        "\n",
        "### SVM"
      ]
    },
    {
      "cell_type": "code",
      "metadata": {
        "colab": {
          "base_uri": "https://localhost:8080/"
        },
        "id": "j7DVvofUP3Ya",
        "outputId": "023bbece-8785-4d72-feed-0c3f0713ff4f"
      },
      "source": [
        "# First guess with SVM\n",
        "c=750\n",
        "clf = SVC(C=c, kernel='poly')\n",
        "x_train, x_valid, y_train, y_valid = train_test_split(\n",
        "    X_resampled[:,8:], y_resampled, test_size=0.3\n",
        ")  # train/validation split\n",
        "clf.fit(x_train, y_train)  # training\n",
        "y_pred = clf.predict(x_valid)  # predictions\n",
        "score = balanced_accuracy_score(y_valid, y_pred)  # scoring\n",
        "print(\"Balanced accuracy score: {}\".format(score))\n",
        "print('C', c)"
      ],
      "execution_count": null,
      "outputs": [
        {
          "output_type": "stream",
          "text": [
            "Balanced accuracy score: 0.7693629358986743\n",
            "C 750\n"
          ],
          "name": "stdout"
        }
      ]
    },
    {
      "cell_type": "code",
      "metadata": {
        "colab": {
          "base_uri": "https://localhost:8080/"
        },
        "id": "4-HW24g8xsSP",
        "outputId": "620c75f3-d076-4662-a7bd-cb41ff81cd42"
      },
      "source": [
        "y_pred = cross_val_predict(clf, X_resampled, y_resampled, cv=5)\n",
        "score = balanced_accuracy_score(y_resampled, y_pred)  # scoring\n",
        "print(\"Balanced accuracy score: {}\".format(score))\n",
        "\n",
        "conf_mat = confusion_matrix(y_resampled, y_pred)\n",
        "print('Confusion matrix:\\n', conf_mat)"
      ],
      "execution_count": null,
      "outputs": [
        {
          "output_type": "stream",
          "text": [
            "Balanced accuracy score: 0.5377189846263855\n",
            "Confusion matrix:\n",
            " [[1247 1550]\n",
            " [1036 1761]]\n"
          ],
          "name": "stdout"
        }
      ]
    },
    {
      "cell_type": "markdown",
      "metadata": {
        "id": "HF3r6ITyx2P0"
      },
      "source": [
        "Hyperparameter tuning for SVM:"
      ]
    },
    {
      "cell_type": "code",
      "metadata": {
        "colab": {
          "base_uri": "https://localhost:8080/",
          "height": 536
        },
        "id": "rtBAVS7qx7b9",
        "outputId": "38def97b-3f64-4bb6-973a-177974bfe7bb"
      },
      "source": [
        "# Hyperparameter search\n",
        "\n",
        "cs=[1e-5,1e-3,1e-1,1,1e1,1e3,1e5]\n",
        "accuracies = []\n",
        "for c in cs:\n",
        "    clf = SVC(C=c, kernel='poly')\n",
        "    x_train, x_valid, y_train, y_valid = train_test_split(\n",
        "        X_resampled[:,8:], y_resampled, test_size=0.3\n",
        "    )  # train/validation split\n",
        "    clf.fit(x_train, y_train)  # training\n",
        "    y_pred = clf.predict(x_valid)  # predictions\n",
        "    score = balanced_accuracy_score(y_valid, y_pred)  # scoring\n",
        "    accuracies.append(score)\n",
        "    print(\"Balanced accuracy score: {}\".format(score))\n",
        "    print('C', c)\n",
        "plt.xscale('log')\n",
        "plt.xlabel('C')\n",
        "plt.ylabel('Accuracy ')\n",
        "plt.plot(cs,accuracies, 'bo-')\n",
        "plt.plot()"
      ],
      "execution_count": null,
      "outputs": [
        {
          "output_type": "stream",
          "text": [
            "Balanced accuracy score: 0.5\n",
            "C 1e-05\n",
            "Balanced accuracy score: 0.5\n",
            "C 0.001\n",
            "Balanced accuracy score: 0.6369597791014788\n",
            "C 0.1\n",
            "Balanced accuracy score: 0.7039629818883779\n",
            "C 1\n",
            "Balanced accuracy score: 0.7199311715035833\n",
            "C 10.0\n",
            "Balanced accuracy score: 0.7504299457956125\n",
            "C 1000.0\n",
            "Balanced accuracy score: 0.721208479020979\n",
            "C 100000.0\n"
          ],
          "name": "stdout"
        },
        {
          "output_type": "execute_result",
          "data": {
            "text/plain": [
              "[]"
            ]
          },
          "metadata": {
            "tags": []
          },
          "execution_count": 255
        },
        {
          "output_type": "display_data",
          "data": {
            "image/png": "[encoded data removed]",
            "text/plain": [
              "<Figure size 432x288 with 1 Axes>"
            ]
          },
          "metadata": {
            "tags": []
          }
        }
      ]
    },
    {
      "cell_type": "code",
      "metadata": {
        "colab": {
          "base_uri": "https://localhost:8080/",
          "height": 536
        },
        "id": "Kc_ketMYyChv",
        "outputId": "818b1e05-0dbc-40bb-875a-5b74a8c7395a"
      },
      "source": [
        "cs=[100,300,500,750,1000,3000,5000]\n",
        "accuracies = []\n",
        "for c in cs:\n",
        "    clf = SVC(C=c, kernel='poly')\n",
        "    x_train, x_valid, y_train, y_valid = train_test_split(\n",
        "        X_resampled[:,8:], y_resampled, test_size=0.3\n",
        "    )  # train/validation split\n",
        "    clf.fit(x_train, y_train)  # training\n",
        "    y_pred = clf.predict(x_valid)  # predictions\n",
        "    score = balanced_accuracy_score(y_valid, y_pred)  # scoring\n",
        "    accuracies.append(score)\n",
        "    print(\"Balanced accuracy score: {}\".format(score))\n",
        "    print('C', c)\n",
        "plt.xscale('log')\n",
        "plt.xlabel('C')\n",
        "plt.ylabel('Accuracy ')\n",
        "plt.plot(cs,accuracies, 'bo-')\n",
        "plt.plot()"
      ],
      "execution_count": null,
      "outputs": [
        {
          "output_type": "stream",
          "text": [
            "Balanced accuracy score: 0.7450987492331811\n",
            "C 100\n",
            "Balanced accuracy score: 0.7495115398705581\n",
            "C 300\n",
            "Balanced accuracy score: 0.7681186469063752\n",
            "C 500\n",
            "Balanced accuracy score: 0.7582333226440849\n",
            "C 750\n",
            "Balanced accuracy score: 0.7307799846149042\n",
            "C 1000\n",
            "Balanced accuracy score: 0.74904474974574\n",
            "C 3000\n",
            "Balanced accuracy score: 0.7485710839612334\n",
            "C 5000\n"
          ],
          "name": "stdout"
        },
        {
          "output_type": "execute_result",
          "data": {
            "text/plain": [
              "[]"
            ]
          },
          "metadata": {
            "tags": []
          },
          "execution_count": 256
        },
        {
          "output_type": "display_data",
          "data": {
            "image/png": "[encoded data removed]",
            "text/plain": [
              "<Figure size 432x288 with 1 Axes>"
            ]
          },
          "metadata": {
            "tags": []
          }
        }
      ]
    },
    {
      "cell_type": "code",
      "metadata": {
        "colab": {
          "base_uri": "https://localhost:8080/"
        },
        "id": "MvdM9NGJ0s-V",
        "outputId": "4e9651c0-4892-4154-afba-c48a76bb5050"
      },
      "source": [
        "# Final SVM MODEL\n",
        "\n",
        "c=500\n",
        "clf = SVC(C=c, kernel='poly')\n",
        "x_train, x_valid, y_train, y_valid = train_test_split(\n",
        "    X_resampled[:,8:], y_resampled, test_size=0.3\n",
        ")  # train/validation split\n",
        "clf.fit(x_train, y_train)  # training\n",
        "y_pred = clf.predict(x_valid)  # predictions\n",
        "score = balanced_accuracy_score(y_valid, y_pred)  # scoring\n",
        "print(\"Balanced accuracy score: {}\".format(score))\n",
        "print('C', c)"
      ],
      "execution_count": null,
      "outputs": [
        {
          "output_type": "stream",
          "text": [
            "Balanced accuracy score: 0.757990430214639\n",
            "C 500\n"
          ],
          "name": "stdout"
        }
      ]
    },
    {
      "cell_type": "markdown",
      "metadata": {
        "id": "Gur6Nt7D070X"
      },
      "source": [
        "### Other models"
      ]
    },
    {
      "cell_type": "code",
      "metadata": {
        "colab": {
          "base_uri": "https://localhost:8080/"
        },
        "id": "pynXrSgh1J2y",
        "outputId": "3d7e51fe-ef21-4e2e-9d9c-9cb387b34d39"
      },
      "source": [
        "# Baseline: K-NN\n",
        "from sklearn.neighbors import KNeighborsClassifier\n",
        "clf = KNeighborsClassifier(n_neighbors=300)\n",
        "x_train, x_valid, y_train, y_valid = train_test_split(\n",
        "    X_resampled[:,8:], y_resampled, test_size=0.3\n",
        ")  # train/validation split\n",
        "clf.fit(x_train, y_train)  # training\n",
        "y_pred = clf.predict(x_valid)  # predictions\n",
        "score = balanced_accuracy_score(y_valid, y_pred)  # scoring\n",
        "print(\"Balanced accuracy score: {}\".format(score))"
      ],
      "execution_count": null,
      "outputs": [
        {
          "output_type": "stream",
          "text": [
            "Balanced accuracy score: 0.6293760819593042\n"
          ],
          "name": "stdout"
        }
      ]
    },
    {
      "cell_type": "code",
      "metadata": {
        "colab": {
          "base_uri": "https://localhost:8080/"
        },
        "id": "u_TsGTHg1NDM",
        "outputId": "9776fefb-45df-4b8d-9ef1-1526519032c8"
      },
      "source": [
        "# Baseline: Linear Regression\n",
        "from sklearn.linear_model import LogisticRegression\n",
        "clf = LogisticRegression(penalty='l1', solver= 'liblinear', C=100, max_iter=1000)\n",
        "x_train, x_valid, y_train, y_valid = train_test_split(\n",
        "    X_resampled[:,8:], y_resampled, test_size=0.3\n",
        ")  # train/validation split\n",
        "clf.fit(x_train, y_train)  # training\n",
        "y_pred = clf.predict(x_valid)  # predictions\n",
        "score = balanced_accuracy_score(y_valid, y_pred)  # scoring\n",
        "print(\"Balanced accuracy score: {}\".format(score))"
      ],
      "execution_count": null,
      "outputs": [
        {
          "output_type": "stream",
          "text": [
            "Balanced accuracy score: 0.7402544501815271\n"
          ],
          "name": "stdout"
        }
      ]
    },
    {
      "cell_type": "code",
      "metadata": {
        "colab": {
          "base_uri": "https://localhost:8080/"
        },
        "id": "Sd_Duttb1PIx",
        "outputId": "9ca2c320-2ac0-4105-fba2-f04b258df5c0"
      },
      "source": [
        "# Baseline: GBM\n",
        "from sklearn.ensemble import GradientBoostingClassifier\n",
        "clf = GradientBoostingClassifier(n_estimators=500)\n",
        "x_train, x_valid, y_train, y_valid = train_test_split(\n",
        "    X_resampled[:,8:], y_resampled, test_size=0.3\n",
        ")  # train/validation split\n",
        "clf.fit(x_train, y_train)  # training\n",
        "y_pred = clf.predict(x_valid)  # predictions\n",
        "score = balanced_accuracy_score(y_valid, y_pred)  # scoring\n",
        "print(\"Balanced accuracy score: {}\".format(score))"
      ],
      "execution_count": null,
      "outputs": [
        {
          "output_type": "stream",
          "text": [
            "Balanced accuracy score: 0.7487086153802489\n"
          ],
          "name": "stdout"
        }
      ]
    },
    {
      "cell_type": "code",
      "metadata": {
        "colab": {
          "base_uri": "https://localhost:8080/"
        },
        "id": "_j6IT68F1Sht",
        "outputId": "89c6e48d-7d5b-4ea1-eeb3-657769d95c22"
      },
      "source": [
        "# Baseline: NN\n",
        "from sklearn.neural_network import MLPClassifier\n",
        "clf = MLPClassifier(hidden_layer_sizes=(30, ), activation='logistic', solver='adam', alpha=0.00001, batch_size='auto', learning_rate='invscaling',max_iter=500, shuffle=True) \n",
        "\n",
        "x_train, x_valid, y_train, y_valid = train_test_split(\n",
        "    X_resampled[:,8:], y_resampled, test_size=0.3\n",
        ")  # train/validation split\n",
        "clf.fit(x_train, y_train)  # training\n",
        "y_pred = clf.predict(x_valid)  # predictions\n",
        "score = balanced_accuracy_score(y_valid, y_pred)  # scoring\n",
        "print(\"Balanced accuracy score: {}\".format(score))\n"
      ],
      "execution_count": null,
      "outputs": [
        {
          "output_type": "stream",
          "text": [
            "Balanced accuracy score: 0.7231883296805623\n"
          ],
          "name": "stdout"
        }
      ]
    },
    {
      "cell_type": "code",
      "metadata": {
        "colab": {
          "base_uri": "https://localhost:8080/"
        },
        "id": "NGlZGgz_2Ge3",
        "outputId": "37a9d240-e850-4f08-b08f-9a5c27910d4d"
      },
      "source": [
        "scaler = StandardScaler().fit(X_no_nan)\n",
        "X_train_norm = scaler.transform(X_no_nan)\n",
        "\n",
        "N = 3000\n",
        "X_resampled, y_resampled = dataHandler.resample(X_train_norm, y, N, N)\n",
        "\n",
        "mlp_gs = MLPClassifier(max_iter=2)\n",
        "parameter_space = {\n",
        "    'hidden_layer_sizes': [(100,),(200,),(400,),(600,),(700,),(800),(600,600),(700,700),(400,700)],\n",
        "    'activation': ['relu'],\n",
        "    'solver': ['sgd', 'adam'],\n",
        "    'alpha': [0.0001, 0.05],\n",
        "    'learning_rate': ['constant','adaptive'],\n",
        "}\n",
        "clf = GridSearchCV(mlp_gs, parameter_space, n_jobs=-1, cv=5)\n",
        "clf.fit(X_resampled[:,8:], y_resampled) # X is train samples and y is the corresponding labels"
      ],
      "execution_count": null,
      "outputs": [
        {
          "output_type": "stream",
          "text": [
            "/usr/local/lib/python3.6/dist-packages/sklearn/neural_network/_multilayer_perceptron.py:571: ConvergenceWarning: Stochastic Optimizer: Maximum iterations (2) reached and the optimization hasn't converged yet.\n",
            "  % self.max_iter, ConvergenceWarning)\n"
          ],
          "name": "stderr"
        },
        {
          "output_type": "execute_result",
          "data": {
            "text/plain": [
              "GridSearchCV(cv=5, error_score=nan,\n",
              "             estimator=MLPClassifier(activation='relu', alpha=0.0001,\n",
              "                                     batch_size='auto', beta_1=0.9,\n",
              "                                     beta_2=0.999, early_stopping=False,\n",
              "                                     epsilon=1e-08, hidden_layer_sizes=(100,),\n",
              "                                     learning_rate='constant',\n",
              "                                     learning_rate_init=0.001, max_fun=15000,\n",
              "                                     max_iter=2, momentum=0.9,\n",
              "                                     n_iter_no_change=10,\n",
              "                                     nesterovs_momentum=True, power_t=0.5,\n",
              "                                     random_state=N...\n",
              "                                     validation_fraction=0.1, verbose=False,\n",
              "                                     warm_start=False),\n",
              "             iid='deprecated', n_jobs=-1,\n",
              "             param_grid={'activation': ['relu'], 'alpha': [0.0001, 0.05],\n",
              "                         'hidden_layer_sizes': [(100,), (200,), (400,), (600,),\n",
              "                                                (700,), 800, (600, 600),\n",
              "                                                (700, 700), (400, 700)],\n",
              "                         'learning_rate': ['constant', 'adaptive'],\n",
              "                         'solver': ['sgd', 'adam']},\n",
              "             pre_dispatch='2*n_jobs', refit=True, return_train_score=False,\n",
              "             scoring=None, verbose=0)"
            ]
          },
          "metadata": {
            "tags": []
          },
          "execution_count": 84
        }
      ]
    },
    {
      "cell_type": "code",
      "metadata": {
        "colab": {
          "base_uri": "https://localhost:8080/"
        },
        "id": "Ju7EkAB8uYln",
        "outputId": "5d847260-2167-42ab-f7f0-b5ba9b96c61a"
      },
      "source": [
        "print('Best parameters found:\\n', clf.best_params_)\n",
        "\n",
        "means = clf.cv_results_['mean_test_score']\n",
        "stds = clf.cv_results_['std_test_score']\n",
        "for mean, std, params in zip(means, stds, clf.cv_results_['params']):\n",
        "    print(\"%0.3f (+/-%0.03f) for %r\" % (mean, std * 2, params))"
      ],
      "execution_count": null,
      "outputs": [
        {
          "output_type": "stream",
          "text": [
            "Best parameters found:\n",
            " {'activation': 'relu', 'alpha': 0.05, 'hidden_layer_sizes': (600, 600), 'learning_rate': 'constant', 'solver': 'adam'}\n",
            "0.573 (+/-0.018) for {'activation': 'relu', 'alpha': 0.0001, 'hidden_layer_sizes': (100,), 'learning_rate': 'constant', 'solver': 'sgd'}\n",
            "0.738 (+/-0.020) for {'activation': 'relu', 'alpha': 0.0001, 'hidden_layer_sizes': (100,), 'learning_rate': 'constant', 'solver': 'adam'}\n",
            "0.559 (+/-0.048) for {'activation': 'relu', 'alpha': 0.0001, 'hidden_layer_sizes': (100,), 'learning_rate': 'adaptive', 'solver': 'sgd'}\n",
            "0.734 (+/-0.020) for {'activation': 'relu', 'alpha': 0.0001, 'hidden_layer_sizes': (100,), 'learning_rate': 'adaptive', 'solver': 'adam'}\n",
            "0.577 (+/-0.061) for {'activation': 'relu', 'alpha': 0.0001, 'hidden_layer_sizes': (200,), 'learning_rate': 'constant', 'solver': 'sgd'}\n",
            "0.747 (+/-0.027) for {'activation': 'relu', 'alpha': 0.0001, 'hidden_layer_sizes': (200,), 'learning_rate': 'constant', 'solver': 'adam'}\n",
            "0.576 (+/-0.040) for {'activation': 'relu', 'alpha': 0.0001, 'hidden_layer_sizes': (200,), 'learning_rate': 'adaptive', 'solver': 'sgd'}\n",
            "0.746 (+/-0.031) for {'activation': 'relu', 'alpha': 0.0001, 'hidden_layer_sizes': (200,), 'learning_rate': 'adaptive', 'solver': 'adam'}\n",
            "0.601 (+/-0.042) for {'activation': 'relu', 'alpha': 0.0001, 'hidden_layer_sizes': (400,), 'learning_rate': 'constant', 'solver': 'sgd'}\n",
            "0.761 (+/-0.023) for {'activation': 'relu', 'alpha': 0.0001, 'hidden_layer_sizes': (400,), 'learning_rate': 'constant', 'solver': 'adam'}\n",
            "0.600 (+/-0.018) for {'activation': 'relu', 'alpha': 0.0001, 'hidden_layer_sizes': (400,), 'learning_rate': 'adaptive', 'solver': 'sgd'}\n",
            "0.760 (+/-0.025) for {'activation': 'relu', 'alpha': 0.0001, 'hidden_layer_sizes': (400,), 'learning_rate': 'adaptive', 'solver': 'adam'}\n",
            "0.622 (+/-0.066) for {'activation': 'relu', 'alpha': 0.0001, 'hidden_layer_sizes': (600,), 'learning_rate': 'constant', 'solver': 'sgd'}\n",
            "0.764 (+/-0.015) for {'activation': 'relu', 'alpha': 0.0001, 'hidden_layer_sizes': (600,), 'learning_rate': 'constant', 'solver': 'adam'}\n",
            "0.614 (+/-0.054) for {'activation': 'relu', 'alpha': 0.0001, 'hidden_layer_sizes': (600,), 'learning_rate': 'adaptive', 'solver': 'sgd'}\n",
            "0.767 (+/-0.013) for {'activation': 'relu', 'alpha': 0.0001, 'hidden_layer_sizes': (600,), 'learning_rate': 'adaptive', 'solver': 'adam'}\n",
            "0.614 (+/-0.016) for {'activation': 'relu', 'alpha': 0.0001, 'hidden_layer_sizes': (700,), 'learning_rate': 'constant', 'solver': 'sgd'}\n",
            "0.768 (+/-0.015) for {'activation': 'relu', 'alpha': 0.0001, 'hidden_layer_sizes': (700,), 'learning_rate': 'constant', 'solver': 'adam'}\n",
            "0.621 (+/-0.052) for {'activation': 'relu', 'alpha': 0.0001, 'hidden_layer_sizes': (700,), 'learning_rate': 'adaptive', 'solver': 'sgd'}\n",
            "0.767 (+/-0.028) for {'activation': 'relu', 'alpha': 0.0001, 'hidden_layer_sizes': (700,), 'learning_rate': 'adaptive', 'solver': 'adam'}\n",
            "0.629 (+/-0.022) for {'activation': 'relu', 'alpha': 0.0001, 'hidden_layer_sizes': 800, 'learning_rate': 'constant', 'solver': 'sgd'}\n",
            "0.761 (+/-0.025) for {'activation': 'relu', 'alpha': 0.0001, 'hidden_layer_sizes': 800, 'learning_rate': 'constant', 'solver': 'adam'}\n",
            "0.609 (+/-0.036) for {'activation': 'relu', 'alpha': 0.0001, 'hidden_layer_sizes': 800, 'learning_rate': 'adaptive', 'solver': 'sgd'}\n",
            "0.767 (+/-0.017) for {'activation': 'relu', 'alpha': 0.0001, 'hidden_layer_sizes': 800, 'learning_rate': 'adaptive', 'solver': 'adam'}\n",
            "0.609 (+/-0.031) for {'activation': 'relu', 'alpha': 0.0001, 'hidden_layer_sizes': (600, 600), 'learning_rate': 'constant', 'solver': 'sgd'}\n",
            "0.776 (+/-0.009) for {'activation': 'relu', 'alpha': 0.0001, 'hidden_layer_sizes': (600, 600), 'learning_rate': 'constant', 'solver': 'adam'}\n",
            "0.614 (+/-0.017) for {'activation': 'relu', 'alpha': 0.0001, 'hidden_layer_sizes': (600, 600), 'learning_rate': 'adaptive', 'solver': 'sgd'}\n",
            "0.773 (+/-0.013) for {'activation': 'relu', 'alpha': 0.0001, 'hidden_layer_sizes': (600, 600), 'learning_rate': 'adaptive', 'solver': 'adam'}\n",
            "0.621 (+/-0.030) for {'activation': 'relu', 'alpha': 0.0001, 'hidden_layer_sizes': (700, 700), 'learning_rate': 'constant', 'solver': 'sgd'}\n",
            "0.775 (+/-0.029) for {'activation': 'relu', 'alpha': 0.0001, 'hidden_layer_sizes': (700, 700), 'learning_rate': 'constant', 'solver': 'adam'}\n",
            "0.613 (+/-0.028) for {'activation': 'relu', 'alpha': 0.0001, 'hidden_layer_sizes': (700, 700), 'learning_rate': 'adaptive', 'solver': 'sgd'}\n",
            "0.779 (+/-0.014) for {'activation': 'relu', 'alpha': 0.0001, 'hidden_layer_sizes': (700, 700), 'learning_rate': 'adaptive', 'solver': 'adam'}\n",
            "0.599 (+/-0.054) for {'activation': 'relu', 'alpha': 0.0001, 'hidden_layer_sizes': (400, 700), 'learning_rate': 'constant', 'solver': 'sgd'}\n",
            "0.775 (+/-0.030) for {'activation': 'relu', 'alpha': 0.0001, 'hidden_layer_sizes': (400, 700), 'learning_rate': 'constant', 'solver': 'adam'}\n",
            "0.595 (+/-0.009) for {'activation': 'relu', 'alpha': 0.0001, 'hidden_layer_sizes': (400, 700), 'learning_rate': 'adaptive', 'solver': 'sgd'}\n",
            "0.770 (+/-0.020) for {'activation': 'relu', 'alpha': 0.0001, 'hidden_layer_sizes': (400, 700), 'learning_rate': 'adaptive', 'solver': 'adam'}\n",
            "0.582 (+/-0.024) for {'activation': 'relu', 'alpha': 0.05, 'hidden_layer_sizes': (100,), 'learning_rate': 'constant', 'solver': 'sgd'}\n",
            "0.736 (+/-0.010) for {'activation': 'relu', 'alpha': 0.05, 'hidden_layer_sizes': (100,), 'learning_rate': 'constant', 'solver': 'adam'}\n",
            "0.585 (+/-0.026) for {'activation': 'relu', 'alpha': 0.05, 'hidden_layer_sizes': (100,), 'learning_rate': 'adaptive', 'solver': 'sgd'}\n",
            "0.731 (+/-0.017) for {'activation': 'relu', 'alpha': 0.05, 'hidden_layer_sizes': (100,), 'learning_rate': 'adaptive', 'solver': 'adam'}\n",
            "0.609 (+/-0.032) for {'activation': 'relu', 'alpha': 0.05, 'hidden_layer_sizes': (200,), 'learning_rate': 'constant', 'solver': 'sgd'}\n",
            "0.748 (+/-0.022) for {'activation': 'relu', 'alpha': 0.05, 'hidden_layer_sizes': (200,), 'learning_rate': 'constant', 'solver': 'adam'}\n",
            "0.584 (+/-0.038) for {'activation': 'relu', 'alpha': 0.05, 'hidden_layer_sizes': (200,), 'learning_rate': 'adaptive', 'solver': 'sgd'}\n",
            "0.746 (+/-0.021) for {'activation': 'relu', 'alpha': 0.05, 'hidden_layer_sizes': (200,), 'learning_rate': 'adaptive', 'solver': 'adam'}\n",
            "0.587 (+/-0.042) for {'activation': 'relu', 'alpha': 0.05, 'hidden_layer_sizes': (400,), 'learning_rate': 'constant', 'solver': 'sgd'}\n",
            "0.761 (+/-0.023) for {'activation': 'relu', 'alpha': 0.05, 'hidden_layer_sizes': (400,), 'learning_rate': 'constant', 'solver': 'adam'}\n",
            "0.611 (+/-0.010) for {'activation': 'relu', 'alpha': 0.05, 'hidden_layer_sizes': (400,), 'learning_rate': 'adaptive', 'solver': 'sgd'}\n",
            "0.763 (+/-0.019) for {'activation': 'relu', 'alpha': 0.05, 'hidden_layer_sizes': (400,), 'learning_rate': 'adaptive', 'solver': 'adam'}\n",
            "0.620 (+/-0.020) for {'activation': 'relu', 'alpha': 0.05, 'hidden_layer_sizes': (600,), 'learning_rate': 'constant', 'solver': 'sgd'}\n",
            "0.768 (+/-0.020) for {'activation': 'relu', 'alpha': 0.05, 'hidden_layer_sizes': (600,), 'learning_rate': 'constant', 'solver': 'adam'}\n",
            "0.617 (+/-0.036) for {'activation': 'relu', 'alpha': 0.05, 'hidden_layer_sizes': (600,), 'learning_rate': 'adaptive', 'solver': 'sgd'}\n",
            "0.767 (+/-0.022) for {'activation': 'relu', 'alpha': 0.05, 'hidden_layer_sizes': (600,), 'learning_rate': 'adaptive', 'solver': 'adam'}\n",
            "0.614 (+/-0.056) for {'activation': 'relu', 'alpha': 0.05, 'hidden_layer_sizes': (700,), 'learning_rate': 'constant', 'solver': 'sgd'}\n",
            "0.766 (+/-0.021) for {'activation': 'relu', 'alpha': 0.05, 'hidden_layer_sizes': (700,), 'learning_rate': 'constant', 'solver': 'adam'}\n",
            "0.614 (+/-0.026) for {'activation': 'relu', 'alpha': 0.05, 'hidden_layer_sizes': (700,), 'learning_rate': 'adaptive', 'solver': 'sgd'}\n",
            "0.765 (+/-0.019) for {'activation': 'relu', 'alpha': 0.05, 'hidden_layer_sizes': (700,), 'learning_rate': 'adaptive', 'solver': 'adam'}\n",
            "0.618 (+/-0.025) for {'activation': 'relu', 'alpha': 0.05, 'hidden_layer_sizes': 800, 'learning_rate': 'constant', 'solver': 'sgd'}\n",
            "0.770 (+/-0.019) for {'activation': 'relu', 'alpha': 0.05, 'hidden_layer_sizes': 800, 'learning_rate': 'constant', 'solver': 'adam'}\n",
            "0.629 (+/-0.034) for {'activation': 'relu', 'alpha': 0.05, 'hidden_layer_sizes': 800, 'learning_rate': 'adaptive', 'solver': 'sgd'}\n",
            "0.770 (+/-0.021) for {'activation': 'relu', 'alpha': 0.05, 'hidden_layer_sizes': 800, 'learning_rate': 'adaptive', 'solver': 'adam'}\n",
            "0.613 (+/-0.033) for {'activation': 'relu', 'alpha': 0.05, 'hidden_layer_sizes': (600, 600), 'learning_rate': 'constant', 'solver': 'sgd'}\n",
            "0.781 (+/-0.029) for {'activation': 'relu', 'alpha': 0.05, 'hidden_layer_sizes': (600, 600), 'learning_rate': 'constant', 'solver': 'adam'}\n",
            "0.607 (+/-0.066) for {'activation': 'relu', 'alpha': 0.05, 'hidden_layer_sizes': (600, 600), 'learning_rate': 'adaptive', 'solver': 'sgd'}\n",
            "0.778 (+/-0.011) for {'activation': 'relu', 'alpha': 0.05, 'hidden_layer_sizes': (600, 600), 'learning_rate': 'adaptive', 'solver': 'adam'}\n",
            "0.637 (+/-0.028) for {'activation': 'relu', 'alpha': 0.05, 'hidden_layer_sizes': (700, 700), 'learning_rate': 'constant', 'solver': 'sgd'}\n",
            "0.778 (+/-0.010) for {'activation': 'relu', 'alpha': 0.05, 'hidden_layer_sizes': (700, 700), 'learning_rate': 'constant', 'solver': 'adam'}\n",
            "0.611 (+/-0.041) for {'activation': 'relu', 'alpha': 0.05, 'hidden_layer_sizes': (700, 700), 'learning_rate': 'adaptive', 'solver': 'sgd'}\n",
            "0.777 (+/-0.010) for {'activation': 'relu', 'alpha': 0.05, 'hidden_layer_sizes': (700, 700), 'learning_rate': 'adaptive', 'solver': 'adam'}\n",
            "0.602 (+/-0.067) for {'activation': 'relu', 'alpha': 0.05, 'hidden_layer_sizes': (400, 700), 'learning_rate': 'constant', 'solver': 'sgd'}\n",
            "0.774 (+/-0.021) for {'activation': 'relu', 'alpha': 0.05, 'hidden_layer_sizes': (400, 700), 'learning_rate': 'constant', 'solver': 'adam'}\n",
            "0.613 (+/-0.032) for {'activation': 'relu', 'alpha': 0.05, 'hidden_layer_sizes': (400, 700), 'learning_rate': 'adaptive', 'solver': 'sgd'}\n",
            "0.775 (+/-0.021) for {'activation': 'relu', 'alpha': 0.05, 'hidden_layer_sizes': (400, 700), 'learning_rate': 'adaptive', 'solver': 'adam'}\n"
          ],
          "name": "stdout"
        }
      ]
    },
    {
      "cell_type": "code",
      "metadata": {
        "colab": {
          "base_uri": "https://localhost:8080/"
        },
        "id": "QvJxn4brwX0f",
        "outputId": "0ec9b1bf-8fd5-44b3-cffa-2a960d9c10cb"
      },
      "source": [
        "x_train, x_valid, y_train, y_valid = train_test_split(\n",
        "    X_resampled[:,8:], y_resampled, test_size=0.3\n",
        ")  # train/validation split\n",
        "\n",
        "clf = MLPClassifier(activation= 'relu',\n",
        "                    alpha= 0.05,\n",
        "                    hidden_layer_sizes= (600,600),\n",
        "                    learning_rate= 'constant',\n",
        "                    solver= 'adam').fit(x_train, y_train)\n",
        "\n",
        "y_pred = clf.predict(x_valid)  # predictions\n",
        "score = balanced_accuracy_score(y_valid, y_pred)  # scoring\n",
        "print(\"Balanced accuracy score: {}\".format(score))"
      ],
      "execution_count": null,
      "outputs": [
        {
          "output_type": "stream",
          "text": [
            "Balanced accuracy score: 0.8260012025418821\n"
          ],
          "name": "stdout"
        }
      ]
    },
    {
      "cell_type": "markdown",
      "metadata": {
        "id": "swFEQgYwoTeh"
      },
      "source": [
        "### Question 3: What is up-sampling? Why it may be worth a try for this problem?"
      ]
    },
    {
      "cell_type": "markdown",
      "metadata": {
        "id": "eEERwhQhoTeh"
      },
      "source": [
        "Up-sampling is a technique to deal with unbalanced data, where one behavior is represented within the majority of your data, while another behavior only accounts for a minority. Up-samplaing involves modifiying your data to achieve a more balanced dataset.\n",
        "\n",
        "For this problem, a resampling may be worth since we are dealing with unbalanced data. However, we tried erlier and found out that upsampling did not help, but downsampling the majority class down to the length of the small class was indeed helpful."
      ]
    },
    {
      "cell_type": "markdown",
      "metadata": {
        "id": "_ljWX65VoTei"
      },
      "source": [
        "## <a id=\"save\"> V) Save Predictions</a>\n",
        "\n",
        "* Use the following code to make predictions and save them as a ZIP file.\n",
        "* Try to upload this ZIP file into the competition (\"Participate > Submit/ View Results > Submit\")\n",
        "* Do your best to be **on top of the leaderboard!**"
      ]
    },
    {
      "cell_type": "code",
      "metadata": {
        "id": "2Qqo7x6h4Hqo"
      },
      "source": [
        "#X_resampled_pca = dataHandler.transform_PCA(X_test_no_nan, nComps)\n",
        "#X_resampled_pca.shape\n",
        "sc_X = scaler.transform(X_test_no_nan)"
      ],
      "execution_count": null,
      "outputs": []
    },
    {
      "cell_type": "code",
      "metadata": {
        "id": "mPGGQ58EoTei",
        "colab": {
          "base_uri": "https://localhost:8080/"
        },
        "outputId": "e1842c9b-6562-401e-b24e-ee36e8f96983"
      },
      "source": [
        "predictions = clf.predict(sc_X[:,8:])  # compute predictions (0 and 1)\n",
        "predictions_file = \"mimic_synthetic_test.csv\"\n",
        "pd.Series(predictions).to_csv(predictions_file, index=False, header=False)\n",
        "print(\"Predictions saved.\")\n",
        "t = time.asctime().replace(\" \", \"_\").replace(\":\", \"-\")\n",
        "output_file = \"submission_\" + t + \".zip\"\n",
        "!zip test_submission.zip mimic_synthetic_test.csv # create a ZIP\n",
        "with ZipFile(output_file, \"w\") as z:\n",
        "    z.write(predictions_file)\n",
        "print(\"The submission is ready: {}\".format(output_file))"
      ],
      "execution_count": null,
      "outputs": [
        {
          "output_type": "stream",
          "text": [
            "Predictions saved.\n",
            "  adding: mimic_synthetic_test.csv (deflated 95%)\n",
            "The submission is ready: submission_Sun_Dec__6_20-52-30_2020.zip\n"
          ],
          "name": "stdout"
        }
      ]
    },
    {
      "cell_type": "markdown",
      "metadata": {
        "id": "qE8l-fPooTei"
      },
      "source": [
        "### Interesting to know!\n",
        "\n",
        "The dataset doesn't contain actual medical data. We are not allowed to share with you such **confidential data** from critical care patients. To avoid that problem, we replaced the data by **artificial data**. \n",
        "\n",
        "In order to have credible data, we have generated them using a **Wasserstein GAN**.\n",
        "\n",
        "For more information, here is a reference: <br />\n",
        "Privacy Preserving Synthetic Health Data <br />\n",
        "Andrew Yale, Saloni Dash, Ritik Dutta, Isabelle Guyon, Adrien Pavao, Kristin Bennett <br />\n",
        "https://hal.inria.fr/hal-02160496/document"
      ]
    }
  ]
}